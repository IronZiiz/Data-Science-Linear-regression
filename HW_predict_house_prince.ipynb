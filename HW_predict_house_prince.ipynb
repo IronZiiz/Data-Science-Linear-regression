{
  "nbformat": 4,
  "nbformat_minor": 0,
  "metadata": {
    "colab": {
      "provenance": [],
      "mount_file_id": "1v5jndaLbpRadomUi19kN0sQXwrdToY1z",
      "authorship_tag": "ABX9TyPxcWAzcUhbmoFtaye/VvBd",
      "include_colab_link": true
    },
    "kernelspec": {
      "name": "python3",
      "display_name": "Python 3"
    },
    "language_info": {
      "name": "python"
    }
  },
  "cells": [
    {
      "cell_type": "markdown",
      "metadata": {
        "id": "view-in-github",
        "colab_type": "text"
      },
      "source": [
        "<a href=\"https://colab.research.google.com/github/IronZiiz/Data-Science-Linear-regression/blob/main/HW_predict_house_prince.ipynb\" target=\"_parent\"><img src=\"https://colab.research.google.com/assets/colab-badge.svg\" alt=\"Open In Colab\"/></a>"
      ]
    },
    {
      "cell_type": "markdown",
      "source": [
        "# Case\n",
        "You receive a demand to estimate the house price with the following features\n",
        "1 bathroom\n",
        "Area 98m²\n",
        "Doesnt have second floor\n",
        "kitchen (excelent)\n"
      ],
      "metadata": {
        "id": "bIubFGrP-WS5"
      }
    },
    {
      "cell_type": "code",
      "source": [
        "import pandas as pd\n",
        "import numpy as np\n",
        "import pickle\n",
        "import statsmodels.api as sm"
      ],
      "metadata": {
        "id": "JKC3hi3k9vIh"
      },
      "execution_count": 8,
      "outputs": []
    },
    {
      "cell_type": "markdown",
      "source": [
        "## Data"
      ],
      "metadata": {
        "id": "B20QItd-_gzG"
      }
    },
    {
      "cell_type": "code",
      "execution_count": 6,
      "metadata": {
        "id": "seZoppF88qGx"
      },
      "outputs": [],
      "source": [
        "df_house = pd.DataFrame({\n",
        "    'const':[1],\n",
        "    'area_primeiro_andar': [98],\n",
        "    'existe_segundo_andar': [0],\n",
        "    'quantidade_banheiros': [1],\n",
        "    'qualidade_da_cozinha_Excelente': [1]\n",
        "})"
      ]
    },
    {
      "cell_type": "markdown",
      "source": [
        "#Predict\n",
        "You can see all code about this model in [Aula_1]_Preços_de_Imóveis_Utilizando_Regressão_Linear"
      ],
      "metadata": {
        "id": "rIgXv3iYAUb-"
      }
    },
    {
      "cell_type": "code",
      "source": [
        "nome_arquivo = '/content/drive/MyDrive/Alura/Data-Science-testando-relações-com-Regressão-Linear/modelo_3_regressao_linear.pkl'"
      ],
      "metadata": {
        "id": "sBa9_VhbBvL8"
      },
      "execution_count": 3,
      "outputs": []
    },
    {
      "cell_type": "code",
      "source": [
        "with open(nome_arquivo, 'rb') as arquivo:\n",
        "  modelo_3 = pickle.load(arquivo)"
      ],
      "metadata": {
        "id": "KKmQbBu3BWRo"
      },
      "execution_count": 7,
      "outputs": []
    },
    {
      "cell_type": "code",
      "source": [
        "modelo_3.predict(df_house)[0]"
      ],
      "metadata": {
        "colab": {
          "base_uri": "https://localhost:8080/"
        },
        "id": "DP-ItliFB-OD",
        "outputId": "e7fdb7b6-e9ef-4d18-cf31-067973e0516a"
      },
      "execution_count": 9,
      "outputs": [
        {
          "output_type": "execute_result",
          "data": {
            "text/plain": [
              "1063173.8519646404"
            ]
          },
          "metadata": {},
          "execution_count": 9
        }
      ]
    }
  ]
}